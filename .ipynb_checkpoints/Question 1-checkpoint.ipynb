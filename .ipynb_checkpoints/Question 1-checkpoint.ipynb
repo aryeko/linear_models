{
 "cells": [
  {
   "cell_type": "markdown",
   "metadata": {},
   "source": [
    "# Question 1\n",
    "\n",
    "The data in the file Books.dat is compiled from the catalogue of American Goverment books at Spring, 1988. It lists prices Price, number of pages P and the binding B (p - paperback, c - ) of books published by a certain publisher.\n",
    "\n",
    "1. Find a reasonable linear model to this data using a price as the dependent variable and performing appropriate transformations of variables if necessary. \n",
    "    - Examine the goodness-of-fit of your final model and comment the results.\n",
    "2. Although most of the data are for books published in 1988, in fact, two of the cloth-bound books were published in 1970's, one of the paperbacks in 1989 and another in 1984. \n",
    "    - Can you identify them? \n",
    "    - Delete them from the data and find an adequate linear model for the reduced data set. \n",
    "    - Did the omitted observations strongly affect the model?\n",
    "3. Another possible way to reduce the influence of outliers is robust regression. \n",
    "    - Fit robust regression(s) and comment the results.\n",
    "4. What model(s) would you introduce to a client? \n",
    "    - How would you interpret your results to him/her? (he is a complete \"amateur\" in statistics)\n",
    "5. Estimate the price of a 200-page book for the two types of binding and give the corresponding 95% prediction intervals."
   ]
  },
  {
   "cell_type": "markdown",
   "metadata": {},
   "source": [
    "### 1. Find a reasonable linear model to this data using a price as the dependent variable and performing appropriate transformations of variables if necessary. \n",
    "    - Examine the goodness-of-fit of your final model and comment the results."
   ]
  },
  {
   "cell_type": "code",
   "execution_count": 514,
   "metadata": {},
   "outputs": [
    {
     "data": {
      "text/html": [
       "<table>\n",
       "<thead><tr><th scope=col>Price</th><th scope=col>P</th><th scope=col>B</th></tr></thead>\n",
       "<tbody>\n",
       "\t<tr><td>10.25</td><td>112  </td><td>p    </td></tr>\n",
       "\t<tr><td>14.25</td><td>260  </td><td>p    </td></tr>\n",
       "\t<tr><td>29.25</td><td>250  </td><td>c    </td></tr>\n",
       "\t<tr><td>17.50</td><td>382  </td><td>p    </td></tr>\n",
       "\t<tr><td>12.00</td><td>175  </td><td>p    </td></tr>\n",
       "\t<tr><td>24.50</td><td>146  </td><td>c    </td></tr>\n",
       "</tbody>\n",
       "</table>\n"
      ],
      "text/latex": [
       "\\begin{tabular}{r|lll}\n",
       " Price & P & B\\\\\n",
       "\\hline\n",
       "\t 10.25 & 112   & p    \\\\\n",
       "\t 14.25 & 260   & p    \\\\\n",
       "\t 29.25 & 250   & c    \\\\\n",
       "\t 17.50 & 382   & p    \\\\\n",
       "\t 12.00 & 175   & p    \\\\\n",
       "\t 24.50 & 146   & c    \\\\\n",
       "\\end{tabular}\n"
      ],
      "text/markdown": [
       "\n",
       "| Price | P | B |\n",
       "|---|---|---|\n",
       "| 10.25 | 112   | p     |\n",
       "| 14.25 | 260   | p     |\n",
       "| 29.25 | 250   | c     |\n",
       "| 17.50 | 382   | p     |\n",
       "| 12.00 | 175   | p     |\n",
       "| 24.50 | 146   | c     |\n",
       "\n"
      ],
      "text/plain": [
       "  Price P   B\n",
       "1 10.25 112 p\n",
       "2 14.25 260 p\n",
       "3 29.25 250 c\n",
       "4 17.50 382 p\n",
       "5 12.00 175 p\n",
       "6 24.50 146 c"
      ]
     },
     "metadata": {},
     "output_type": "display_data"
    },
    {
     "data": {
      "image/png": "[encoded data removed]",
      "text/plain": [
       "plot without title"
      ]
     },
     "metadata": {},
     "output_type": "display_data"
    }
   ],
   "source": [
    "books = read.table(\"Books.dat\", header = T)\n",
    "\n",
    "books$B <- as.factor(books$B)\n",
    "head(books)\n",
    "# Define color for each of the 2 categories\n",
    "colors <- c(\"Red\", \"Blue\")\n",
    "colors <- colors[books$B]\n",
    "\n",
    "# Define shapes\n",
    "shapes = c('+', '*') \n",
    "shapes <- shapes[books$B]\n",
    "\n",
    "options(repr.plot.width=10, repr.plot.height=5)\n",
    "par(mfrow = c(1,2))\n",
    "plot(Price ~ P, data = books, col=colors, pch=shapes)\n",
    "plot(Price ~ B, data = books)"
   ]
  },
  {
   "cell_type": "markdown",
   "metadata": {},
   "source": [
    "$$\n",
    "\\text{Looks like a parallel regression model will by appropriate for this data}\n",
    "$$"
   ]
  },
  {
   "cell_type": "code",
   "execution_count": 515,
   "metadata": {},
   "outputs": [
    {
     "data": {
      "text/plain": [
       "\n",
       "Call:\n",
       "lm(formula = Price ~ P + B + P * B, data = books)\n",
       "\n",
       "Residuals:\n",
       "    Min      1Q  Median      3Q     Max \n",
       "-6.3122 -0.4064  0.3694  1.4617  2.6399 \n",
       "\n",
       "Coefficients:\n",
       "            Estimate Std. Error t value Pr(>|t|)    \n",
       "(Intercept) 17.80451    3.90643   4.558 0.000323 ***\n",
       "P            0.03895    0.01662   2.343 0.032379 *  \n",
       "Bp          -9.46633    4.56666  -2.073 0.054691 .  \n",
       "P:Bp        -0.01490    0.01841  -0.809 0.430224    \n",
       "---\n",
       "Signif. codes:  0 '***' 0.001 '**' 0.01 '*' 0.05 '.' 0.1 ' ' 1\n",
       "\n",
       "Residual standard error: 2.454 on 16 degrees of freedom\n",
       "Multiple R-squared:  0.8884,\tAdjusted R-squared:  0.8675 \n",
       "F-statistic: 42.47 on 3 and 16 DF,  p-value: 7.605e-08\n"
      ]
     },
     "metadata": {},
     "output_type": "display_data"
    }
   ],
   "source": [
    "lm.fit=lm(Price ~ P + B + P*B, data = books)\n",
    "summary(lm.fit)"
   ]
  },
  {
   "cell_type": "markdown",
   "metadata": {},
   "source": [
    "$$\n",
    "\\text{The interaction is not significant, lets test if it is rellevant} \\\\\n",
    "H_0: \\beta_{P*B} = 0\n",
    "$$"
   ]
  },
  {
   "cell_type": "code",
   "execution_count": 516,
   "metadata": {},
   "outputs": [
    {
     "data": {
      "text/html": [
       "<table>\n",
       "<thead><tr><th scope=col>Res.Df</th><th scope=col>RSS</th><th scope=col>Df</th><th scope=col>Sum of Sq</th><th scope=col>F</th><th scope=col>Pr(&gt;F)</th></tr></thead>\n",
       "<tbody>\n",
       "\t<tr><td>17       </td><td>100.28849</td><td>NA       </td><td>      NA </td><td>       NA</td><td>       NA</td></tr>\n",
       "\t<tr><td>16       </td><td> 96.34474</td><td> 1       </td><td>3.943743 </td><td>0.6549386</td><td>0.4302236</td></tr>\n",
       "</tbody>\n",
       "</table>\n"
      ],
      "text/latex": [
       "\\begin{tabular}{r|llllll}\n",
       " Res.Df & RSS & Df & Sum of Sq & F & Pr(>F)\\\\\n",
       "\\hline\n",
       "\t 17        & 100.28849 & NA        &       NA  &        NA &        NA\\\\\n",
       "\t 16        &  96.34474 &  1        & 3.943743  & 0.6549386 & 0.4302236\\\\\n",
       "\\end{tabular}\n"
      ],
      "text/markdown": [
       "\n",
       "| Res.Df | RSS | Df | Sum of Sq | F | Pr(>F) |\n",
       "|---|---|---|---|---|---|\n",
       "| 17        | 100.28849 | NA        |       NA  |        NA |        NA |\n",
       "| 16        |  96.34474 |  1        | 3.943743  | 0.6549386 | 0.4302236 |\n",
       "\n"
      ],
      "text/plain": [
       "  Res.Df RSS       Df Sum of Sq F         Pr(>F)   \n",
       "1 17     100.28849 NA       NA         NA        NA\n",
       "2 16      96.34474  1 3.943743  0.6549386 0.4302236"
      ]
     },
     "metadata": {},
     "output_type": "display_data"
    }
   ],
   "source": [
    "lm.fit.no.interaction=lm(Price ~ P + B, data = books)\n",
    "# summary(lm.fit.no.interaction)\n",
    "\n",
    "anova(lm.fit.no.interaction, lm.fit)"
   ]
  },
  {
   "cell_type": "markdown",
   "metadata": {},
   "source": [
    "$$\n",
    "\\text{We will not reject } H_0 \\text{ and conclude that the interaction may be equal to zero} \\\\\n",
    "\\text{We will use the model without the interaction}\n",
    "$$"
   ]
  },
  {
   "cell_type": "code",
   "execution_count": 517,
   "metadata": {
    "scrolled": false
   },
   "outputs": [
    {
     "data": {
      "image/png": "[encoded data removed]",
      "text/plain": [
       "plot without title"
      ]
     },
     "metadata": {},
     "output_type": "display_data"
    },
    {
     "data": {
      "image/png": "[encoded data removed]",
      "text/plain": [
       "Plot with title \"\""
      ]
     },
     "metadata": {},
     "output_type": "display_data"
    }
   ],
   "source": [
    "options(repr.plot.width=7, repr.plot.height=7)\n",
    "par(mfrow = c(1,1))\n",
    "plot(Price ~ P, data = books, col=colors, pch=shapes)\n",
    "lines(books[books$B=='p',]$P, predict(lm.fit.no.interaction, books[books$B=='p',]), col=\"Blue\")\n",
    "lines(books[books$B=='c',]$P, predict(lm.fit.no.interaction, books[books$B=='c',]), col=\"Red\")\n",
    "\n",
    "options(repr.plot.width=10, repr.plot.height=5)\n",
    "par(mfrow = c(1,2))\n",
    "plot(lm.fit.no.interaction, which = 1:2)"
   ]
  },
  {
   "cell_type": "markdown",
   "metadata": {},
   "source": [
    "$$\n",
    "\\text{The summary of the model looks fine, there are clearly some outliers.} \\\\\n",
    "\\text{Looks like the residuals assumption aren't met but this data set is not big...} \\\\\n",
    "\\text{Let's try to improve it using transformation}\n",
    "$$"
   ]
  },
  {
   "cell_type": "code",
   "execution_count": 518,
   "metadata": {},
   "outputs": [
    {
     "data": {
      "image/png": "[encoded data removed]",
      "text/plain": [
       "plot without title"
      ]
     },
     "metadata": {},
     "output_type": "display_data"
    }
   ],
   "source": [
    "library(MASS)\n",
    "options(repr.plot.width=5, repr.plot.height=4)\n",
    "lamb = boxcox(lm.fit.no.interaction, lambda = seq(-2, 2, 1/10), plotit = TRUE, eps = 1/50, xlab = expression(lambda), ylab = \"log-Likelihood\")"
   ]
  },
  {
   "cell_type": "markdown",
   "metadata": {},
   "source": [
    "$$\n",
    "\\text{Log transformation to the dependant variable may be a good transformation here} \\\\\n",
    "\\text{Let's try both and compare them}\n",
    "$$"
   ]
  },
  {
   "cell_type": "code",
   "execution_count": 519,
   "metadata": {
    "scrolled": false
   },
   "outputs": [
    {
     "data": {
      "text/plain": [
       "\n",
       "Call:\n",
       "lm(formula = log(Price) ~ P + B, data = books)\n",
       "\n",
       "Residuals:\n",
       "     Min       1Q   Median       3Q      Max \n",
       "-0.26486 -0.02311  0.02264  0.06107  0.18798 \n",
       "\n",
       "Coefficients:\n",
       "              Estimate Std. Error t value Pr(>|t|)    \n",
       "(Intercept)  2.8958193  0.0798191  36.280  < 2e-16 ***\n",
       "P            0.0016613  0.0003135   5.299 5.89e-05 ***\n",
       "Bp          -0.6641103  0.0508064 -13.071 2.69e-10 ***\n",
       "---\n",
       "Signif. codes:  0 '***' 0.001 '**' 0.01 '*' 0.05 '.' 0.1 ' ' 1\n",
       "\n",
       "Residual standard error: 0.1076 on 17 degrees of freedom\n",
       "Multiple R-squared:  0.9102,\tAdjusted R-squared:  0.8996 \n",
       "F-statistic: 86.12 on 2 and 17 DF,  p-value: 1.271e-09\n"
      ]
     },
     "metadata": {},
     "output_type": "display_data"
    },
    {
     "data": {
      "image/png": "[encoded data removed]",
      "text/plain": [
       "Plot with title \"\""
      ]
     },
     "metadata": {},
     "output_type": "display_data"
    }
   ],
   "source": [
    "lm.log.fit=lm(log(Price) ~ P + B, data = books)\n",
    "summary(lm.log.fit)\n",
    "\n",
    "# options(repr.plot.width=7, repr.plot.height=7)\n",
    "# par(mfrow = c(1,1))\n",
    "# plot(log(Price) ~ P, data = books, col=colors, pch=shapes)\n",
    "# lines(books[books$B=='p',]$P, predict(lm.log.fit, books[books$B=='p',]), col=\"Blue\")\n",
    "# lines(books[books$B=='c',]$P, predict(lm.log.fit, books[books$B=='c',]), col=\"Red\")\n",
    "\n",
    "options(repr.plot.width=10, repr.plot.height=5)\n",
    "par(mfrow = c(1,2))\n",
    "plot(lm.log.fit, which = 1:2)"
   ]
  },
  {
   "cell_type": "markdown",
   "metadata": {},
   "source": [
    "$$\n",
    "\\text{Looks much better, also the RSS, R squared and coefficients are more significant!} \\\\\n",
    "\\text{Lets try a log-log model.}\\\\\n",
    "\\text{First, make sure log transformation is still relevant after log transformation on P}\n",
    "$$"
   ]
  },
  {
   "cell_type": "code",
   "execution_count": 520,
   "metadata": {},
   "outputs": [
    {
     "data": {
      "image/png": "[encoded data removed]",
      "text/plain": [
       "plot without title"
      ]
     },
     "metadata": {},
     "output_type": "display_data"
    }
   ],
   "source": [
    "lm.logP.fit=lm(Price ~ log(P) + B, data = books)\n",
    "# summary(lm.logP.fit)\n",
    "\n",
    "options(repr.plot.width=5, repr.plot.height=4)\n",
    "par(mfrow = c(1,1))\n",
    "lamb = boxcox(lm.logP.fit, lambda = seq(-2, 2, 1/10), plotit = TRUE, eps = 1/50, xlab = expression(lambda), ylab = \"log-Likelihood\")"
   ]
  },
  {
   "cell_type": "markdown",
   "metadata": {},
   "source": [
    "$$\n",
    "\\text{YES! Let's try a log-log model}\n",
    "$$"
   ]
  },
  {
   "cell_type": "code",
   "execution_count": 521,
   "metadata": {
    "scrolled": false
   },
   "outputs": [
    {
     "data": {
      "text/plain": [
       "\n",
       "Call:\n",
       "lm(formula = log(Price) ~ log(P) + B, data = books)\n",
       "\n",
       "Residuals:\n",
       "     Min       1Q   Median       3Q      Max \n",
       "-0.27165 -0.03651  0.02453  0.05926  0.15323 \n",
       "\n",
       "Coefficients:\n",
       "            Estimate Std. Error t value Pr(>|t|)    \n",
       "(Intercept)  1.12797    0.39194   2.878   0.0104 *  \n",
       "log(P)       0.39705    0.07211   5.506 3.85e-05 ***\n",
       "Bp          -0.63889    0.04827 -13.237 2.21e-10 ***\n",
       "---\n",
       "Signif. codes:  0 '***' 0.001 '**' 0.01 '*' 0.05 '.' 0.1 ' ' 1\n",
       "\n",
       "Residual standard error: 0.105 on 17 degrees of freedom\n",
       "Multiple R-squared:  0.9144,\tAdjusted R-squared:  0.9044 \n",
       "F-statistic: 90.82 on 2 and 17 DF,  p-value: 8.418e-10\n"
      ]
     },
     "metadata": {},
     "output_type": "display_data"
    },
    {
     "data": {
      "image/png": "[encoded data removed]",
      "text/plain": [
       "Plot with title \"\""
      ]
     },
     "metadata": {},
     "output_type": "display_data"
    }
   ],
   "source": [
    "lm.loglog.fit=lm(log(Price) ~ log(P) + B, data = books)\n",
    "summary(lm.loglog.fit)\n",
    "\n",
    "# options(repr.plot.width=7, repr.plot.height=7)\n",
    "# par(mfrow = c(1,1))\n",
    "# plot(log(Price) ~ log(P), data = books, col=colors, pch=shapes)\n",
    "# lines(log(books[books$B=='p',]$P), predict(lm.loglog.fit, books[books$B=='p',]), col=\"Blue\")\n",
    "# lines(log(books[books$B=='c',]$P), predict(lm.loglog.fit, books[books$B=='c',]), col=\"Red\")\n",
    "\n",
    "options(repr.plot.width=10, repr.plot.height=5)\n",
    "par(mfrow = c(1,2))\n",
    "plot(lm.loglog.fit, which = 1:2)"
   ]
  },
  {
   "cell_type": "markdown",
   "metadata": {},
   "source": [
    "$$\n",
    "\\text{Better in RSS and R squared, but the coefficients are not significant now.} \\\\\n",
    "\\text{We have to retry it after removing the outliers}\\\\\n",
    "$$"
   ]
  },
  {
   "cell_type": "markdown",
   "metadata": {},
   "source": [
    "### 2. Although most of the data are for books published in 1988, in fact, two of the cloth-bound books were published in 1970's, one of the paperbacks in 1989 and another in 1984. \n",
    "    - Can you identify them? \n",
    "    - Delete them from the data and find an adequate linear model for the reduced data set. \n",
    "    - Did the omitted observations strongly affect the model?"
   ]
  },
  {
   "cell_type": "code",
   "execution_count": 522,
   "metadata": {
    "scrolled": false
   },
   "outputs": [
    {
     "name": "stdout",
     "output_type": "stream",
     "text": [
      "influential:  7 17"
     ]
    }
   ],
   "source": [
    "cooksd <- cooks.distance(lm.loglog.fit)\n",
    "sample_size <- nrow(books)\n",
    "\n",
    "# influential row numbers\n",
    "influential <- as.numeric(names(cooksd)[(cooksd > (4/sample_size))])\n",
    "\n",
    "# Removing Outliers\n",
    "data_screen <- books[-influential, ]\n",
    "\n",
    "cat(\"influential: \", influential)\n",
    "\n",
    "# Define color for each of the 2 categories\n",
    "colors <- c(\"Red\", \"Blue\")\n",
    "colors <- colors[data_screen$B]\n",
    "\n",
    "# Define shapes\n",
    "shapes = c('+', '*') \n",
    "shapes <- shapes[data_screen$B]"
   ]
  },
  {
   "cell_type": "markdown",
   "metadata": {},
   "source": [
    "$$\n",
    "\\text{The influential observations are 7 and 17. Let's remove them and re-fit the models} \\\\\n",
    "\\text{By cooks distance, they strongly affected the model}\n",
    "$$"
   ]
  },
  {
   "cell_type": "code",
   "execution_count": 523,
   "metadata": {
    "scrolled": false
   },
   "outputs": [
    {
     "data": {
      "text/plain": [
       "\n",
       "Call:\n",
       "lm(formula = log(Price) ~ log(P) + B, data = data_screen)\n",
       "\n",
       "Residuals:\n",
       "      Min        1Q    Median        3Q       Max \n",
       "-0.050067 -0.032982 -0.006216  0.017336  0.154280 \n",
       "\n",
       "Coefficients:\n",
       "            Estimate Std. Error t value Pr(>|t|)    \n",
       "(Intercept)  1.12520    0.18479   6.089 2.07e-05 ***\n",
       "log(P)       0.40888    0.03405  12.010 4.28e-09 ***\n",
       "Bp          -0.70198    0.02403 -29.209 1.23e-14 ***\n",
       "---\n",
       "Signif. codes:  0 '***' 0.001 '**' 0.01 '*' 0.05 '.' 0.1 ' ' 1\n",
       "\n",
       "Residual standard error: 0.04924 on 15 degrees of freedom\n",
       "Multiple R-squared:  0.9833,\tAdjusted R-squared:  0.981 \n",
       "F-statistic: 440.5 on 2 and 15 DF,  p-value: 4.766e-14\n"
      ]
     },
     "metadata": {},
     "output_type": "display_data"
    },
    {
     "data": {
      "image/png": "[encoded data removed]",
      "text/plain": [
       "Plot with title \"\""
      ]
     },
     "metadata": {},
     "output_type": "display_data"
    }
   ],
   "source": [
    "lm.loglog.screen.fit=lm(log(Price) ~ log(P) + B, data = data_screen)\n",
    "summary(lm.loglog.screen.fit)\n",
    "\n",
    "# options(repr.plot.width=7, repr.plot.height=7)\n",
    "# par(mfrow = c(1,1))\n",
    "# plot(log(Price) ~ log(P), data = data_screen, col=colors, pch=shapes)\n",
    "# lines(log(data_screen[data_screen$B=='p',]$P), predict(lm.loglog.screen.fit, data_screen[data_screen$B=='p',]), col=\"Blue\")\n",
    "# lines(log(data_screen[data_screen$B=='c',]$P), predict(lm.loglog.screen.fit, data_screen[data_screen$B=='c',]), col=\"Red\")\n",
    "\n",
    "options(repr.plot.width=10, repr.plot.height=5)\n",
    "par(mfrow = c(1,2))\n",
    "plot(lm.loglog.screen.fit, which = 1:2)"
   ]
  },
  {
   "cell_type": "markdown",
   "metadata": {},
   "source": [
    "$$\n",
    "\\text{Much better now! but from the residuals plots looks like i forgot an explanatory variable.}\\\\\n",
    "\\text{Let's try to add the interaction back adter removing the outliers}\n",
    "$$"
   ]
  },
  {
   "cell_type": "code",
   "execution_count": 524,
   "metadata": {},
   "outputs": [
    {
     "data": {
      "text/plain": [
       "\n",
       "Call:\n",
       "lm(formula = log(Price) ~ log(P) + B + log(P) * B, data = data_screen)\n",
       "\n",
       "Residuals:\n",
       "      Min        1Q    Median        3Q       Max \n",
       "-0.046229 -0.022085 -0.003334  0.010665  0.156248 \n",
       "\n",
       "Coefficients:\n",
       "            Estimate Std. Error t value Pr(>|t|)    \n",
       "(Intercept)  1.53956    0.38287   4.021 0.001263 ** \n",
       "log(P)       0.33219    0.07079   4.693 0.000346 ***\n",
       "Bp          -1.23942    0.43774  -2.831 0.013330 *  \n",
       "log(P):Bp    0.09878    0.08034   1.230 0.239130    \n",
       "---\n",
       "Signif. codes:  0 '***' 0.001 '**' 0.01 '*' 0.05 '.' 0.1 ' ' 1\n",
       "\n",
       "Residual standard error: 0.04842 on 14 degrees of freedom\n",
       "Multiple R-squared:  0.9849,\tAdjusted R-squared:  0.9817 \n",
       "F-statistic: 304.2 on 3 and 14 DF,  p-value: 5.609e-13\n"
      ]
     },
     "metadata": {},
     "output_type": "display_data"
    },
    {
     "data": {
      "image/png": "[encoded data removed]",
      "text/plain": [
       "plot without title"
      ]
     },
     "metadata": {},
     "output_type": "display_data"
    },
    {
     "data": {
      "image/png": "[encoded data removed]",
      "text/plain": [
       "Plot with title \"\""
      ]
     },
     "metadata": {},
     "output_type": "display_data"
    }
   ],
   "source": [
    "lm.loglog.screen.full.fit=lm(log(Price) ~ log(P) + B + log(P) * B, data = data_screen)\n",
    "summary(lm.loglog.screen.full.fit)\n",
    "\n",
    "options(repr.plot.width=7, repr.plot.height=7)\n",
    "par(mfrow = c(1,1))\n",
    "plot(log(Price) ~ log(P), data = data_screen, col=colors, pch=shapes)\n",
    "lines(log(data_screen[data_screen$B=='p',]$P), predict(lm.loglog.screen.full.fit, data_screen[data_screen$B=='p',]), col=\"Blue\")\n",
    "lines(log(data_screen[data_screen$B=='c',]$P), predict(lm.loglog.screen.full.fit, data_screen[data_screen$B=='c',]), col=\"Red\")\n",
    "\n",
    "options(repr.plot.width=10, repr.plot.height=5)\n",
    "par(mfrow = c(1,2))\n",
    "plot(lm.loglog.screen.full.fit, which = 1:2)"
   ]
  },
  {
   "cell_type": "markdown",
   "metadata": {},
   "source": [
    "$$\n",
    "\\text{The interaction coefficient is not significant, but the residuals assumptions are much better now.} \\\\\n",
    "\\text{The data set is small so the residuals plots may be good enough} \\\\\n",
    "\\text{Let's compare the final models}\n",
    "$$"
   ]
  },
  {
   "cell_type": "code",
   "execution_count": 525,
   "metadata": {},
   "outputs": [],
   "source": [
    "crossVal <- function(lm.object)\n",
    "{\n",
    "    # Computes the cross-validation (CV), the generalized cross-validation (GCV) and the cross-validation correlation coefficient (R^2_{CV}) for the specified linear model\n",
    "    res <- lm.object$residuals\n",
    "    y <- lm.object$fitted.values + lm.object$residuals\n",
    "    h <- lm.influence(lm.object)$hat\n",
    "    n <- length(y)\n",
    "    cv <- mean(res^2/(1 - h)^2)\n",
    "    gcv <- (n * sum(res^2))/lm.object$df^2\n",
    "    r2cv <- cor(y, y - res/(1 - h))^2\n",
    "    return(cbind(cv, gcv, r2cv))\n",
    "}"
   ]
  },
  {
   "cell_type": "code",
   "execution_count": 526,
   "metadata": {},
   "outputs": [
    {
     "data": {
      "text/html": [
       "<table>\n",
       "<thead><tr><th scope=col>models</th><th scope=col>cv</th><th scope=col>gcv</th><th scope=col>r2cv</th></tr></thead>\n",
       "<tbody>\n",
       "\t<tr><td>full log log model </td><td>0.00242015936483855</td><td>0.00301468005114989</td><td>0.979970214293035  </td></tr>\n",
       "\t<tr><td>log log model      </td><td>0.00271161055181002</td><td>0.00290970332858164</td><td>0.977562137922682  </td></tr>\n",
       "</tbody>\n",
       "</table>\n"
      ],
      "text/latex": [
       "\\begin{tabular}{llll}\n",
       " models & cv & gcv & r2cv\\\\\n",
       "\\hline\n",
       "\t full log log model  & 0.00242015936483855 & 0.00301468005114989 & 0.979970214293035  \\\\\n",
       "\t log log model       & 0.00271161055181002 & 0.00290970332858164 & 0.977562137922682  \\\\\n",
       "\\end{tabular}\n"
      ],
      "text/markdown": [
       "\n",
       "| models | cv | gcv | r2cv |\n",
       "|---|---|---|---|\n",
       "| full log log model  | 0.00242015936483855 | 0.00301468005114989 | 0.979970214293035   |\n",
       "| log log model       | 0.00271161055181002 | 0.00290970332858164 | 0.977562137922682   |\n",
       "\n"
      ],
      "text/plain": [
       "     models             cv                  gcv                \n",
       "[1,] full log log model 0.00242015936483855 0.00301468005114989\n",
       "[2,] log log model      0.00271161055181002 0.00290970332858164\n",
       "     r2cv             \n",
       "[1,] 0.979970214293035\n",
       "[2,] 0.977562137922682"
      ]
     },
     "metadata": {},
     "output_type": "display_data"
    }
   ],
   "source": [
    "lm.loglog.screen.full.fit.crossVal <- crossVal(lm.loglog.screen.full.fit)\n",
    "lm.loglog.screen.fit.crossVal <- crossVal(lm.loglog.screen.fit)\n",
    "models <- c(\"full log log model\", \"log log model\")\n",
    "\n",
    "results <- cbind(models,\n",
    "                 rbind(lm.loglog.screen.full.fit.crossVal, lm.loglog.screen.fit.crossVal))\n",
    "results"
   ]
  },
  {
   "cell_type": "markdown",
   "metadata": {},
   "source": [
    "$$\n",
    "\\text{Both models are almost the same, but the full log log model meets the residuals assumption much better} \\\\\n",
    "$$"
   ]
  },
  {
   "cell_type": "markdown",
   "metadata": {},
   "source": [
    "$$\n",
    "\\text{SUMMARY} \\\\\n",
    "\\text{The full log log model is the choosen model for this data}\n",
    "$$"
   ]
  },
  {
   "cell_type": "markdown",
   "metadata": {},
   "source": [
    "### 3. Another possible way to reduce the influence of outliers is robust regression. \n",
    "    - Fit robust regression(s) and comment the results."
   ]
  },
  {
   "cell_type": "markdown",
   "metadata": {},
   "source": [
    "$$\n",
    "\\text{First, let's try on the original scale}\n",
    "$$"
   ]
  },
  {
   "cell_type": "code",
   "execution_count": 527,
   "metadata": {},
   "outputs": [],
   "source": [
    "mod.huber <- rlm(Price ~ P + B + P * B, data = books, psi = psi.huber)\n",
    "mod.hampel <- rlm(Price ~ P + B + P * B, data = books, psi = psi.hampel)\n",
    "mod.tukey <- rlm(Price ~ P + B + P * B, data = books, psi = psi.bisquare)\n",
    "mod.lms <- lqs(Price ~ P + B + P * B, data = books, method = \"lms\")\n",
    "mod.lts <- lqs(Price ~ P + B + P * B, data = books, method = \"lts\")"
   ]
  },
  {
   "cell_type": "code",
   "execution_count": 528,
   "metadata": {
    "scrolled": false
   },
   "outputs": [
    {
     "data": {
      "image/png": "[encoded data removed]",
      "text/plain": [
       "plot without title"
      ]
     },
     "metadata": {},
     "output_type": "display_data"
    }
   ],
   "source": [
    "colors <- c(\"Red\", \"Blue\")\n",
    "colors <- colors[books$B]\n",
    "shapes = c('+', '*') \n",
    "shapes <- shapes[books$B]\n",
    "options(repr.plot.width=7, repr.plot.height=7)\n",
    "par(mfrow = c(1,1))\n",
    "plot(Price ~ P, data = books, col=colors, pch=shapes)\n",
    "lines(books[books$B=='p',]$P, predict(mod.loglog, books[books$B=='p',]), col=1)\n",
    "lines(books[books$B=='c',]$P, predict(mod.loglog, books[books$B=='c',]), col=1)\n",
    "\n",
    "lines(books[books$B=='p',]$P, predict(mod.huber, books[books$B=='p',]), col=2)\n",
    "lines(books[books$B=='c',]$P, predict(mod.huber, books[books$B=='c',]), col=2)\n",
    "\n",
    "lines(books[books$B=='p',]$P, predict(mod.hampel, books[books$B=='p',]), col=3)\n",
    "lines(books[books$B=='c',]$P, predict(mod.hampel, books[books$B=='c',]), col=3)\n",
    "\n",
    "lines(books[books$B=='p',]$P, predict(mod.tukey, books[books$B=='p',]), col=4)\n",
    "lines(books[books$B=='c',]$P, predict(mod.tukey, books[books$B=='c',]), col=4)\n",
    "\n",
    "lines(books[books$B=='p',]$P, predict(mod.lms, books[books$B=='p',]), col=5)\n",
    "lines(books[books$B=='c',]$P, predict(mod.lms, books[books$B=='c',]), col=5)\n",
    "\n",
    "lines(books[books$B=='p',]$P, predict(mod.lts, books[books$B=='p',]), col=6)\n",
    "lines(books[books$B=='c',]$P, predict(mod.lts, books[books$B=='c',]), col=6)\n",
    "\n",
    "legend(x=\"topright\", legend = c(\"OLS\", \"Huber\", \"Hampel\", \"lts\", \"lms\"), col=1:6, lty=1)"
   ]
  },
  {
   "cell_type": "markdown",
   "metadata": {},
   "source": [
    "$$\n",
    "\\text{Let's compare the models using k fold with k=1 (leave one out)}\n",
    "$$"
   ]
  },
  {
   "cell_type": "code",
   "execution_count": 529,
   "metadata": {},
   "outputs": [],
   "source": [
    "none <- function(x){ return (x)}\n",
    "\n",
    "kfold <- function(k = 1, un.trans = none, data = books, fit.func, ...){\n",
    "    n = nrow(data)\n",
    "    cv = 0\n",
    "    step = k\n",
    "    for(i in seq(1,n, by = step)){\n",
    "        fit <- fit.func(..., data = data[-(i:(i+k-1)), ])\n",
    "        press <- sum((data[(i:(i+k-1)),1] - un.trans(predict(fit, data[(i:(i+k-1)),-1])))^2)\n",
    "        cv = cv + press\n",
    "    }\n",
    "    cv = cv/n\n",
    "    \n",
    "    return(cbind(round(cv, digits = 5)))\n",
    "}"
   ]
  },
  {
   "cell_type": "code",
   "execution_count": 530,
   "metadata": {},
   "outputs": [
    {
     "name": "stderr",
     "output_type": "stream",
     "text": [
      "Warning message in rlm.default(x, y, weights, method = method, wt.method = wt.method, :\n",
      "\"'rlm' failed to converge in 20 steps\"Warning message in rlm.default(x, y, weights, method = method, wt.method = wt.method, :\n",
      "\"'rlm' failed to converge in 20 steps\"Warning message in rlm.default(x, y, weights, method = method, wt.method = wt.method, :\n",
      "\"'rlm' failed to converge in 20 steps\"Warning message in rlm.default(x, y, weights, method = method, wt.method = wt.method, :\n",
      "\"'rlm' failed to converge in 20 steps\""
     ]
    },
    {
     "data": {
      "text/html": [
       "<table>\n",
       "<thead><tr><th scope=col>Model</th><th scope=col>CV on original scale</th></tr></thead>\n",
       "<tbody>\n",
       "\t<tr><td>full log log model</td><td>6.72315           </td></tr>\n",
       "\t<tr><td>Huber             </td><td>6.02833           </td></tr>\n",
       "\t<tr><td>Hampel            </td><td>6.09954           </td></tr>\n",
       "\t<tr><td>Tukey             </td><td>6.09151           </td></tr>\n",
       "\t<tr><td>lms               </td><td>6.34038           </td></tr>\n",
       "\t<tr><td>lts               </td><td>6.33307           </td></tr>\n",
       "</tbody>\n",
       "</table>\n"
      ],
      "text/latex": [
       "\\begin{tabular}{ll}\n",
       " Model & CV on original scale\\\\\n",
       "\\hline\n",
       "\t full log log model & 6.72315           \\\\\n",
       "\t Huber              & 6.02833           \\\\\n",
       "\t Hampel             & 6.09954           \\\\\n",
       "\t Tukey              & 6.09151           \\\\\n",
       "\t lms                & 6.34038           \\\\\n",
       "\t lts                & 6.33307           \\\\\n",
       "\\end{tabular}\n"
      ],
      "text/markdown": [
       "\n",
       "| Model | CV on original scale |\n",
       "|---|---|\n",
       "| full log log model | 6.72315            |\n",
       "| Huber              | 6.02833            |\n",
       "| Hampel             | 6.09954            |\n",
       "| Tukey              | 6.09151            |\n",
       "| lms                | 6.34038            |\n",
       "| lts                | 6.33307            |\n",
       "\n"
      ],
      "text/plain": [
       "     Model              CV on original scale\n",
       "[1,] full log log model 6.72315             \n",
       "[2,] Huber              6.02833             \n",
       "[3,] Hampel             6.09954             \n",
       "[4,] Tukey              6.09151             \n",
       "[5,] lms                6.34038             \n",
       "[6,] lts                6.33307             "
      ]
     },
     "metadata": {},
     "output_type": "display_data"
    }
   ],
   "source": [
    "mod.huber.kfold <- kfold(fit.func = rlm, formula = Price ~ P + B + P * B, psi = psi.huber)\n",
    "mod.hampel.kfold <- kfold(fit.func = rlm, formula = Price ~ P + B + P * B, psi = psi.hampel)\n",
    "mod.tukey.kfold <- kfold(fit.func = rlm, formula = Price ~ P + B + P * B, psi = psi.bisquare)\n",
    "mod.lms.kfold <- kfold(fit.func = lqs, formula = Price ~ P + B + P * B, method = \"lms\")\n",
    "mod.lts.kfold <- kfold(fit.func = lqs, formula = Price ~ P + B + P * B, method = \"lts\")\n",
    "\n",
    "# Note that I'm using un.trans to go back to the original scale\n",
    "mod.loglog.kfold <- kfold(un.trans = exp, fit.func = lm, formula = log(Price) ~ log(P) + B + log(P) * B)\n",
    "\n",
    "\n",
    "models <- c(\"full log log model\", \n",
    "            \"Huber\",\n",
    "            \"Hampel\",\n",
    "            \"Tukey\",\n",
    "            \"lms\",\n",
    "            \"lts\"\n",
    "           )\n",
    "cv.original.scale <- rbind(mod.loglog.kfold, \n",
    "                       mod.huber.kfold,\n",
    "                       mod.hampel.kfold,\n",
    "                       mod.tukey.kfold,\n",
    "                       mod.lms.kfold,\n",
    "                       mod.lts.kfold\n",
    "                      )\n",
    "\n",
    "results <- cbind(models, cv.original.scale)\n",
    "\n",
    "colnames(results) <- c(\"Model\", \"CV on original scale\")\n",
    "\n",
    "results"
   ]
  },
  {
   "cell_type": "markdown",
   "metadata": {},
   "source": [
    "$$\n",
    "\\text{What about the model without the outliers?}\n",
    "$$"
   ]
  },
  {
   "cell_type": "code",
   "execution_count": 531,
   "metadata": {},
   "outputs": [
    {
     "name": "stdout",
     "output_type": "stream",
     "text": [
      "cv:  0.62185"
     ]
    }
   ],
   "source": [
    "mod.loglog.screen.kfold <- kfold(data = data_screen, un.trans = exp, fit.func = lm, \n",
    "                                 formula = log(Price) ~ log(P) + B + log(P) * B)\n",
    "\n",
    "cat(\"cv: \", mod.loglog.screen.kfold)"
   ]
  },
  {
   "cell_type": "markdown",
   "metadata": {},
   "source": [
    "$$\n",
    "\\text{Looks better than the robust models, but this cross validation didn't included the removed observations!} \\\\\n",
    "\\text{Let's add the mean prediction error to model's cv (for a fair comparision)}\n",
    "$$"
   ]
  },
  {
   "cell_type": "code",
   "execution_count": 532,
   "metadata": {},
   "outputs": [
    {
     "name": "stdout",
     "output_type": "stream",
     "text": [
      "cv:  27.99055"
     ]
    }
   ],
   "source": [
    "influential.error = round(\n",
    "    mean((books[influential,1] - exp(predict(lm.loglog.screen.full.fit, books[influential,-1])))^2)\n",
    "                          , digits = 5)\n",
    "\n",
    "mod.loglog.screen.kfold = (mod.loglog.screen.kfold + influential.error)/2\n",
    "cat(\"cv: \", mod.loglog.screen.kfold)"
   ]
  },
  {
   "cell_type": "markdown",
   "metadata": {},
   "source": [
    "$$\n",
    "\\text{Now we can see that the model without the outliers has a huge error} \\\\\n",
    "\\text{(compared to the robust regression models) when trying to predict the outliers}\n",
    "$$"
   ]
  },
  {
   "cell_type": "markdown",
   "metadata": {},
   "source": [
    "### 4. What model(s) would you introduce to a client? \n",
    "    - How would you interpret your results to him/her? (he is a complete \"amateur\" in statistics)"
   ]
  },
  {
   "cell_type": "markdown",
   "metadata": {},
   "source": [
    "$$\n",
    "\\text{Ill present the Huber model to the client} \\\\\n",
    "\\text{since it has the best percision and it is robust for observations with big measurment errors} \\\\\n",
    "$$"
   ]
  },
  {
   "cell_type": "markdown",
   "metadata": {},
   "source": [
    "$$\n",
    "\\text{Client interpertation:} \\\\\n",
    "\\text{We have a great model for predicting book price given its pages count and binding.} \\\\\n",
    "\\text{The model is very accurate and is not biased by mistakes in the data.}\n",
    "$$"
   ]
  },
  {
   "cell_type": "markdown",
   "metadata": {},
   "source": [
    "### 5. Estimate the price of a 200-page book for the two types of binding and give the corresponding 95% prediction intervals."
   ]
  },
  {
   "cell_type": "code",
   "execution_count": 533,
   "metadata": {},
   "outputs": [
    {
     "name": "stderr",
     "output_type": "stream",
     "text": [
      "Warning message in predict.lm(mod.huber, data, interval = \"prediction\", scale = 0.514481283876251):\n",
      "\"Assuming constant prediction variance even though model fit is weighted\n",
      "\""
     ]
    },
    {
     "name": "stdout",
     "output_type": "stream",
     "text": [
      "For paperback bindind, the proce estimation is:  12.84051 . CI=( 11.74964 13.93138 )\n",
      "For cloth bindind, the proce estimation is:  26.77525 . CI=( 25.6976 27.8529 )\n"
     ]
    }
   ],
   "source": [
    "data <- data.frame(books[1:2,-1])\n",
    "data$P <- 200\n",
    "data$B <- c('p', 'c')\n",
    "\n",
    "prediction.intervals <- predict(mod.huber, data, interval = \"prediction\")\n",
    "# prediction.intervals\n",
    "\n",
    "cat(\"For paperback bindind, the price estimation is: \", prediction.intervals[1,1], \n",
    "    \". CI=(\",prediction.intervals[1,2:3],\")\\n\")\n",
    "\n",
    "cat(\"For cloth bindind, the price estimation is: \", prediction.intervals[2,1], \n",
    "    \". CI=(\",prediction.intervals[2,2:3],\")\\n\")"
   ]
  }
 ],
 "metadata": {
  "kernelspec": {
   "display_name": "R",
   "language": "R",
   "name": "ir"
  },
  "language_info": {
   "codemirror_mode": "r",
   "file_extension": ".r",
   "mimetype": "text/x-r-source",
   "name": "R",
   "pygments_lexer": "r",
   "version": "3.6.1"
  }
 },
 "nbformat": 4,
 "nbformat_minor": 2
}
